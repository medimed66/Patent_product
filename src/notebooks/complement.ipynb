{
 "cells": [
  {
   "cell_type": "markdown",
   "id": "e84b5dd0",
   "metadata": {},
   "source": [
    "This cell provides an interactive interface for inspecting and editing the textual fields of the product data. Use it to review, modify, or complement product information as needed. All changes can be saved directly, making it easy to keep the product dataset up to date."
   ]
  },
  {
   "cell_type": "code",
   "execution_count": null,
   "id": "b5a39d21",
   "metadata": {},
   "outputs": [
    {
     "data": {
      "application/vnd.jupyter.widget-view+json": {
       "model_id": "28f792de62084a78a07e921d1312c777",
       "version_major": 2,
       "version_minor": 0
      },
      "text/plain": [
       "HTML(value='<h3>Product Index: Flexline and Qsonic</h3>')"
      ]
     },
     "metadata": {},
     "output_type": "display_data"
    },
    {
     "data": {
      "application/vnd.jupyter.widget-view+json": {
       "model_id": "a79503f528ee419d8bd0fcad0e847731",
       "version_major": 2,
       "version_minor": 0
      },
      "text/plain": [
       "HTML(value='<p>Product 386 of 1829</p>')"
      ]
     },
     "metadata": {},
     "output_type": "display_data"
    },
    {
     "data": {
      "application/vnd.jupyter.widget-view+json": {
       "model_id": "2a843891ab434004b163da2d7be947cd",
       "version_major": 2,
       "version_minor": 0
      },
      "text/plain": [
       "Accordion(children=(VBox(children=(Textarea(value='None', description='Bulletpoints', layout=Layout(height='15…"
      ]
     },
     "metadata": {},
     "output_type": "display_data"
    },
    {
     "data": {
      "application/vnd.jupyter.widget-view+json": {
       "model_id": "936307933dec43bb9fed39ffb41d8e18",
       "version_major": 2,
       "version_minor": 0
      },
      "text/plain": [
       "HBox(children=(Button(description='Previous', layout=Layout(width='150px'), style=ButtonStyle()), Button(descr…"
      ]
     },
     "metadata": {},
     "output_type": "display_data"
    }
   ],
   "source": [
    "import pandas as pd\n",
    "import ipywidgets as widgets\n",
    "from IPython.display import display, clear_output\n",
    "import os\n",
    "from html import escape\n",
    "\n",
    "# Load the data\n",
    "product_df = pd.read_json(\"../../Data/products.json\", orient='index')\n",
    "output_path = \"../../Data/products.json\"  # Same as input path\n",
    "\n",
    "# Initialize index counter\n",
    "current_index = 0\n",
    "\n",
    "# Create output directory if it doesn't exist\n",
    "os.makedirs(os.path.dirname(output_path), exist_ok=True)\n",
    "\n",
    "# Function to save the dataframe back to JSON\n",
    "def save_data():\n",
    "    product_df.to_json(output_path, orient='index', indent=2)\n",
    "\n",
    "# Function to convert special characters for display\n",
    "def display_format(text):\n",
    "    if not isinstance(text, str):\n",
    "        return str(text)\n",
    "    # Convert special chars to visible format\n",
    "    return (text)\n",
    "\n",
    "# Function to convert back to original format for saving\n",
    "def save_format(text):\n",
    "    if not isinstance(text, str):\n",
    "        return text\n",
    "    # Convert back to original special chars\n",
    "    return (text)\n",
    "\n",
    "# Function to display current product\n",
    "def display_product(index):\n",
    "    global current_index, product_df\n",
    "    \n",
    "    # Ensure index is within bounds\n",
    "    if index >= len(product_df):\n",
    "        index = len(product_df) - 1\n",
    "    if index < 0:\n",
    "        index = 0\n",
    "    current_index = index\n",
    "    \n",
    "    # Clear previous output\n",
    "    clear_output(wait=True)\n",
    "    \n",
    "    # Display index name\n",
    "    index_name = product_df.index[current_index]\n",
    "    display(widgets.HTML(f\"<h3>Product Index: {escape(index_name)}</h3>\"))\n",
    "    display(widgets.HTML(f\"<p>Product {current_index + 1} of {len(product_df)}</p>\"))\n",
    "    \n",
    "    # Get the current product data\n",
    "    product_data = product_df.iloc[current_index].to_dict()\n",
    "    \n",
    "    # Create widgets for each attribute\n",
    "    widgets_dict = {}\n",
    "    for attr, value in product_data.items():\n",
    "        # Convert value to display format\n",
    "        display_value = display_format(value)\n",
    "        \n",
    "        # Create a text area with proper sizing for all fields\n",
    "        widgets_dict[attr] = widgets.Textarea(\n",
    "            value=display_value,\n",
    "            description=attr,\n",
    "            layout=widgets.Layout(width='90%', height='150px'),\n",
    "            style={'description_width': 'initial'}\n",
    "        )\n",
    "    \n",
    "    # Display all attribute widgets in an accordion for better organization\n",
    "    accordion = widgets.Accordion(children=[widgets.VBox(list(widgets_dict.values()))])\n",
    "    accordion.set_title(0, 'Product Attributes')\n",
    "    accordion.selected_index = 0  # Start expanded\n",
    "    display(accordion)\n",
    "    \n",
    "    # Create navigation buttons with larger size\n",
    "    next_button = widgets.Button(description=\"Next\", layout=widgets.Layout(width='150px'))\n",
    "    prev_button = widgets.Button(description=\"Previous\", layout=widgets.Layout(width='150px'))\n",
    "    save_button = widgets.Button(\n",
    "        description=\"Save Now\", \n",
    "        button_style='success',\n",
    "        layout=widgets.Layout(width='150px')\n",
    "    )\n",
    "    \n",
    "    # Button click handlers\n",
    "    def on_next_click(b):\n",
    "        # Save current changes (converting back to original format)\n",
    "        for attr, widget in widgets_dict.items():\n",
    "            original_value = save_format(widget.value)\n",
    "            product_df.at[product_df.index[current_index], attr] = original_value\n",
    "        save_data()\n",
    "        # Move to next product\n",
    "        display_product(current_index + 1)\n",
    "    \n",
    "    def on_prev_click(b):\n",
    "        # Save current changes (converting back to original format)\n",
    "        for attr, widget in widgets_dict.items():\n",
    "            original_value = save_format(widget.value)\n",
    "            product_df.at[product_df.index[current_index], attr] = original_value\n",
    "        save_data()\n",
    "        # Move to previous product\n",
    "        display_product(current_index - 1)\n",
    "    \n",
    "    def on_save_click(b):\n",
    "        # Save current changes (converting back to original format)\n",
    "        for attr, widget in widgets_dict.items():\n",
    "            original_value = save_format(widget.value)\n",
    "            product_df.at[product_df.index[current_index], attr] = original_value\n",
    "        save_data()\n",
    "        display(widgets.HTML(\"<p style='color:green;'>Changes saved!</p>\"))\n",
    "    \n",
    "    # Assign handlers\n",
    "    next_button.on_click(on_next_click)\n",
    "    prev_button.on_click(on_prev_click)\n",
    "    save_button.on_click(on_save_click)\n",
    "    \n",
    "    # Display buttons in a horizontal layout with some spacing\n",
    "    buttons = widgets.HBox(\n",
    "        [prev_button, next_button, save_button],\n",
    "        layout=widgets.Layout(justify_content='center', margin='20px 0')\n",
    "    )\n",
    "    display(buttons)\n",
    "\n",
    "# Start displaying the first product\n",
    "idx=0\n",
    "display_product(idx)"
   ]
  }
 ],
 "metadata": {
  "kernelspec": {
   "display_name": "Data_analysis",
   "language": "python",
   "name": "python3"
  },
  "language_info": {
   "codemirror_mode": {
    "name": "ipython",
    "version": 3
   },
   "file_extension": ".py",
   "mimetype": "text/x-python",
   "name": "python",
   "nbconvert_exporter": "python",
   "pygments_lexer": "ipython3",
   "version": "3.10.8"
  }
 },
 "nbformat": 4,
 "nbformat_minor": 5
}
